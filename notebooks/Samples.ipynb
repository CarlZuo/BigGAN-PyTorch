{
 "cells": [
  {
   "cell_type": "code",
   "execution_count": null,
   "metadata": {},
   "outputs": [],
   "source": [
    "import functools\n",
    "import os\n",
    "import json\n",
    "import math\n",
    "import subprocess\n",
    "import numpy as np\n",
    "import sys\n",
    "from ipywidgets import interact\n",
    "import matplotlib.pyplot as plt\n",
    "import torch\n",
    "\n",
    "# import pretorched.visualizers as vutils\n",
    "import torchvision\n",
    "import io\n",
    "import IPython.display\n",
    "import PIL\n",
    "from pprint import pprint\n",
    "import nb_utils\n",
    "\n",
    "sys.path.insert(0, '../')\n",
    "\n",
    "import models\n",
    "import utils\n",
    "\n",
    "\n",
    "# Plotting\n",
    "%matplotlib inline\n",
    "plt.rcParams['font.size'] = 18.0\n",
    "plt.rcParams['figure.figsize'] = (16.0, 16.0)\n",
    "plt.rcParams['image.interpolation'] = 'nearest'\n",
    "plt.rcParams['image.cmap'] = 'gray'\n",
    "\n",
    "# For MB Pro retina display\n",
    "%config InlineBackend.figure_format = 'retina'\n",
    "\n",
    "# For auto-reloading external modules\n",
    "%load_ext autoreload\n",
    "%autoreload 2"
   ]
  },
  {
   "cell_type": "markdown",
   "metadata": {},
   "source": [
    "### List models"
   ]
  },
  {
   "cell_type": "code",
   "execution_count": null,
   "metadata": {},
   "outputs": [],
   "source": [
    "WEIGHTS_ROOT = 'weights/'\n",
    "weight_dirs = []\n",
    "for i, w in enumerate(os.listdir(WEIGHTS_ROOT)):\n",
    "    weight_dirs.append(os.path.join(WEIGHTS_ROOT, w))\n",
    "    print(i, w, end='\\n')"
   ]
  },
  {
   "cell_type": "code",
   "execution_count": null,
   "metadata": {},
   "outputs": [],
   "source": [
    "# Select model to sample\n",
    "wd = weight_dirs[0]"
   ]
  },
  {
   "cell_type": "code",
   "execution_count": null,
   "metadata": {},
   "outputs": [],
   "source": [
    "device = 'cuda'\n",
    "state_dict = torch.load(os.path.join(wd, 'state_dict.pth'))\n",
    "config = state_dict['config']\n",
    "\n",
    "model = getattr(models, config['model'])\n",
    "G = model.Generator(**config).to(device).eval()\n",
    "G.load_state_dict(torch.load(os.path.join(wd, 'G_ema.pth'), map_location=device))"
   ]
  },
  {
   "cell_type": "code",
   "execution_count": null,
   "metadata": {},
   "outputs": [],
   "source": [
    "state_dict = torch.load(os.path.join(wd, 'state_dict.pth'))\n",
    "pprint(state_dict)"
   ]
  },
  {
   "cell_type": "code",
   "execution_count": null,
   "metadata": {},
   "outputs": [],
   "source": [
    "batch_size = 128\n",
    "z = nb_utils.truncated_z_sample(batch_size, G.dim_z, device=device, truncation=0.8)\n",
    "y = torch.randint(G.n_classes, (batch_size,), device=device).long()\n",
    "g = functools.partial(G, embed=True)\n",
    "with torch.no_grad():\n",
    "    out = utils.elastic_gan(g, z, y)\n",
    "nb_utils.imshow(255* np.transpose(torchvision.utils.make_grid(out.cpu(), nrow=int(np.sqrt(batch_size)), normalize=True).numpy(), (1, 2, 0)))"
   ]
  },
  {
   "cell_type": "code",
   "execution_count": null,
   "metadata": {},
   "outputs": [],
   "source": [
    "batch_size = 128\n",
    "\n",
    "z, _ = utils.prepare_z_y(batch_size, G.dim_z, G.n_classes, device=device, z_var=0.45)\n",
    "z = nb_utils.truncated_z_sample(batch_size, G.dim_z, device=device, truncation=0.2)\n",
    "y = torch.randint(G.n_classes, (batch_size,), device=device).long()\n",
    "\n",
    "g = functools.partial(G, embed=True)\n",
    "with torch.no_grad():\n",
    "    out = utils.elastic_gan(g, z, y)\n",
    "\n",
    "nb_utils.imshow(255* np.transpose(torchvision.utils.make_grid(out.cpu(), nrow=int(np.sqrt(batch_size)), normalize=True).numpy(), (1, 2, 0)))"
   ]
  },
  {
   "cell_type": "code",
   "execution_count": null,
   "metadata": {},
   "outputs": [],
   "source": [
    "batch_size = 128\n",
    "z, _ = utils.prepare_z_y(batch_size, G.dim_z, G.n_classes, device=device, z_var=0.1)\n",
    "z = nb_utils.truncated_z_sample(batch_size, G.dim_z, device=device, truncation=0.2)\n",
    "y = torch.randint(G.n_classes, (batch_size,), device=device).long()\n",
    "g = functools.partial(G, embed=True)\n",
    "with torch.no_grad():\n",
    "    out = utils.elastic_gan(g, z, y)\n",
    "nb_utils.imshow(255* np.transpose(torchvision.utils.make_grid(out.cpu(), nrow=int(np.sqrt(batch_size)), normalize=True).numpy(), (1, 2, 0)))"
   ]
  },
  {
   "cell_type": "code",
   "execution_count": null,
   "metadata": {
    "scrolled": false
   },
   "outputs": [],
   "source": [
    "# Intra-class (z only) Latent space interpolation\n",
    "\n",
    "label = 2\n",
    "num_samples = 32\n",
    "num_midpoints = 8\n",
    "minibatch_size = 8\n",
    "trunc = 0.5\n",
    "use_trunc = True\n",
    "\n",
    "# Choose two coordinates to interpolate between.\n",
    "if use_trunc:\n",
    "    z0 = nb_utils.truncated_z_sample(num_samples, G.dim_z, device=device, truncation=trunc)\n",
    "    z1 = nb_utils.truncated_z_sample(num_samples, G.dim_z, device=device, truncation=trunc)\n",
    "else:\n",
    "    z0 = torch.randn(num_samples, G.dim_z).to(device)\n",
    "    z1 = torch.randn(num_samples, G.dim_z).to(device)\n",
    "\n",
    "# Interpolate between z0 and z1.\n",
    "zs = nb_utils.interp(z0, z1, num_midpoints, device=device)\n",
    "zs = zs.view(-1, zs.size(-1))\n",
    "\n",
    "# Choose a random class for each row of interpolations.\n",
    "ys = torch.cat([torch.ones(num_midpoints + 2).long() * torch.randint(G.n_classes, (1,))\n",
    "                for _ in range(num_samples)]).long().to(device)\n",
    "\n",
    "with torch.no_grad():\n",
    "    samples = utils.elastic_gan(g, zs, ys)\n",
    "\n",
    "# Show\n",
    "nb_utils.imshow(255* np.transpose(torchvision.utils.make_grid(samples.cpu(), nrow=num_midpoints + 2, normalize=True).numpy(), (1, 2, 0)))"
   ]
  },
  {
   "cell_type": "code",
   "execution_count": null,
   "metadata": {
    "scrolled": false
   },
   "outputs": [],
   "source": [
    "# Class-wise interpolation\n",
    "# Inter-class (y only) Latent space interpolation\n",
    "num_samples = 32\n",
    "num_midpoints = 8\n",
    "minibatch_size = 8\n",
    "\n",
    "dev = next(G.parameters()).device\n",
    "x0 = torch.randn(num_samples, G.dim_z).to(dev)\n",
    "x1 = torch.randn(num_samples, G.dim_z).to(dev)\n",
    "zs = nb_utils.interp(x0, x1, num_midpoints, device=dev)\n",
    "zs = zs.view(-1, zs.size(-1))\n",
    "\n",
    "class_a = G.shared(torch.ones(num_samples, device=dev).long() * torch.randint(G.n_classes, (1,), device=dev))\n",
    "class_b = G.shared(torch.ones(num_samples, device=dev).long() * torch.randint(G.n_classes, (1,), device=dev))\n",
    "ys = nb_utils.interp(class_a, class_b, num_midpoints, device=dev)\n",
    "ys = ys.view(-1, ys.size(-1))\n",
    "\n",
    "with torch.no_grad():\n",
    "    # Split batches into mini-batches so that it fits in memory.\n",
    "    samples = torch.cat([G(z, y) for z, y in zip(zs.split(minibatch_size), ys.split(minibatch_size))])\n",
    "\n",
    "# vutils.visualize_samples(samples, nrow=num_midpoints + 2, figsize=(60, 60))\n",
    "nb_utils.imshow(255* np.transpose(torchvision.utils.make_grid(samples.cpu(), nrow=num_midpoints + 2, normalize=True).numpy(), (1, 2, 0)))"
   ]
  }
 ],
 "metadata": {
  "kernelspec": {
   "display_name": "Python 3",
   "language": "python",
   "name": "python3"
  },
  "language_info": {
   "codemirror_mode": {
    "name": "ipython",
    "version": 3
   },
   "file_extension": ".py",
   "mimetype": "text/x-python",
   "name": "python",
   "nbconvert_exporter": "python",
   "pygments_lexer": "ipython3",
   "version": "3.7.5"
  }
 },
 "nbformat": 4,
 "nbformat_minor": 2
}
